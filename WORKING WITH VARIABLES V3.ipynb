{
 "cells": [
  {
   "cell_type": "code",
   "execution_count": null,
   "metadata": {},
   "outputs": [],
   "source": [
    "# import libraries\n",
    "# build graph\n",
    "# execute graph\n",
    "# view tensorboard"
   ]
  },
  {
   "cell_type": "code",
   "execution_count": null,
   "metadata": {},
   "outputs": [],
   "source": [
    "# import libraries\n",
    "import tensorflow as tf\n",
    "import google.datalab.ml as ml"
   ]
  },
  {
   "cell_type": "code",
   "execution_count": 73,
   "metadata": {},
   "outputs": [],
   "source": [
    "# reset graph (or define custom graph)\n",
    "tf.reset_default_graph()\n",
    "\n",
    "# the tf.reset_default_graph() function is used for resetting your default graph so that you dont see old nodes displayed together with new nodes on tensorboard\n",
    "# Calling the tf.reset_default_graph() function while a tf.Session or tf.InteractiveSession is active will result in undefined behavior \n",
    "# Using any previously created tf.Operation or tf.Tensor objects after calling the tf.reset_default_graph() function will result in undefined behavior"
   ]
  },
  {
   "cell_type": "code",
   "execution_count": 75,
   "metadata": {},
   "outputs": [],
   "source": [
    "# build graph\n",
    "# variables\n",
    "var_1 = tf.Variable(45)\n",
    "var_2 = tf.Variable(457)\n"
   ]
  },
  {
   "cell_type": "code",
   "execution_count": 76,
   "metadata": {},
   "outputs": [],
   "source": [
    "# init\n",
    "init = tf.global_variables_initializer()"
   ]
  },
  {
   "cell_type": "code",
   "execution_count": 77,
   "metadata": {},
   "outputs": [],
   "source": [
    "# nodes\n",
    "prod = var_1.assign(tf.multiply(var_1, var_2))"
   ]
  },
  {
   "cell_type": "code",
   "execution_count": null,
   "metadata": {},
   "outputs": [],
   "source": [
    "# execute graph\n",
    "with tf.Session() as sess:\n",
    "  \n",
    "  sess.run(init)\n",
    "  \n",
    "  for i in range(20):\n",
    "    \n",
    "    print \"product is \", sess.run(prod)\n",
    "    print \"increment variable 2 by 5, result is \", sess.run(var_2.assign_add(5))\n",
    "    \n",
    "    writer = tf.summary.FileWriter('./graph5', sess.graph)\n",
    "    writer.close()\n",
    "    \n",
    "  \n",
    "    "
   ]
  },
  {
   "cell_type": "code",
   "execution_count": null,
   "metadata": {},
   "outputs": [],
   "source": [
    "# view tensorboard\n",
    "t_board1 = ml.TensorBoard.start('./graph5')\n"
   ]
  },
  {
   "cell_type": "code",
   "execution_count": null,
   "metadata": {},
   "outputs": [],
   "source": [
    "ml.TensorBoard.stop"
   ]
  },
  {
   "cell_type": "code",
   "execution_count": null,
   "metadata": {},
   "outputs": [],
   "source": []
  }
 ],
 "metadata": {
  "kernelspec": {
   "display_name": "Python 2",
   "language": "python",
   "name": "python2"
  },
  "language_info": {
   "codemirror_mode": {
    "name": "ipython",
    "version": 2
   },
   "file_extension": ".py",
   "mimetype": "text/x-python",
   "name": "python",
   "nbconvert_exporter": "python",
   "pygments_lexer": "ipython2",
   "version": "2.7.15"
  }
 },
 "nbformat": 4,
 "nbformat_minor": 2
}
