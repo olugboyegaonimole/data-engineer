{
 "cells": [
  {
   "cell_type": "code",
   "execution_count": null,
   "metadata": {},
   "outputs": [],
   "source": [
    "# PLAN\n",
    "  # DEFINE ADDRESS ARRAY\n",
    "  \n",
    "  # DEFINE FILENAME QUEUE\n",
    "  \n",
    "  # DEFINE IMAGE READER\n",
    "  \n",
    "  # EXECUTE SESSION\n",
    "    # create queue runner object\n",
    "    \n",
    "    # convert images to list of tensors\n",
    "      # create empty list\n",
    "      # read one file from the queue\n",
    "      # decode\n",
    "      # resize\n",
    "      # set shape\n",
    "      # sess.run to convert to Numpy array\n",
    "      # add new dimension to array\n",
    "      # append array to image list\n",
    "    \n",
    "    # stop processing\n",
    "    \n",
    "    # join threads\n",
    "    \n",
    "    # write image summary\n",
    "    \n",
    "  # VIEW IN TENSORBOARD\n",
    "  "
   ]
  },
  {
   "cell_type": "code",
   "execution_count": 1,
   "metadata": {},
   "outputs": [
    {
     "name": "stderr",
     "output_type": "stream",
     "text": [
      "/usr/local/envs/py2env/lib/python2.7/site-packages/h5py/__init__.py:36: FutureWarning: Conversion of the second argument of issubdtype from `float` to `np.floating` is deprecated. In future, it will be treated as `np.float64 == np.dtype(float).type`.\n",
      "  from ._conv import register_converters as _register_converters\n"
     ]
    }
   ],
   "source": [
    "# IMPORT LIBRARIES\n",
    "import tensorflow as tf\n",
    "import google.datalab.ml as ml"
   ]
  },
  {
   "cell_type": "code",
   "execution_count": 6,
   "metadata": {},
   "outputs": [],
   "source": [
    "# DEFINE ADDRESS ARRAY CONTAINING IMAGE ADDRESSES\n",
    "original_image_list = [\"./images/cat.2.jpg\", \n",
    "              \"./images/cat.3.jpg\",\n",
    "              \"./images/cat.4.jpg\",\n",
    "              \"./images/cat.5.jpg\",\n",
    "              \"./images/cat.6.jpg\",\n",
    "              \"./images/dog.1.jpg\",\n",
    "              \"./images/dog.2.jpg\",\n",
    "              \"./images/dog.3.jpg\",\n",
    "              \"./images/dog.4.jpg\",\n",
    "              \"./images/dog.5.jpg\"\n",
    "             ]"
   ]
  },
  {
   "cell_type": "code",
   "execution_count": 7,
   "metadata": {},
   "outputs": [],
   "source": [
    "# DEFINE FILENAME QUEUE USING ADDRESS ARRAY\n",
    "filename_queue = tf.train.string_input_producer(original_image_list) # we will produce multiple threads to read from this queue of images"
   ]
  },
  {
   "cell_type": "code",
   "execution_count": 8,
   "metadata": {},
   "outputs": [],
   "source": [
    "# DEFINE IMAGE READER\n",
    "image_reader = tf.WholeFileReader() # allows us to read the entire file in one go"
   ]
  },
  {
   "cell_type": "code",
   "execution_count": 9,
   "metadata": {},
   "outputs": [
    {
     "name": "stdout",
     "output_type": "stream",
     "text": [
      "(224, 224, 3)\n",
      "(224, 224, 3)\n",
      "(224, 224, 3)\n",
      "(224, 224, 3)\n",
      "(224, 224, 3)\n",
      "(224, 224, 3)\n",
      "(224, 224, 3)\n",
      "(224, 224, 3)\n",
      "(224, 224, 3)\n",
      "(224, 224, 3)\n"
     ]
    }
   ],
   "source": [
    "# EXECUTE SESSION\n",
    "with tf.Session() as sess:\n",
    "  \n",
    "  # create queue runner object to coordinate the loading of image files\n",
    "  \n",
    "  coord = tf.train.Coordinator() # class which allows you to coordinate multiple threads; a method call on the coordinator can be used to stop processing on all your threads\n",
    "  \n",
    "  threads = tf.train.start_queue_runners(sess = sess, coord = coord) # queue runner allows you to process elements in a queue in parallel; purpose of threads is to read from the queue of images; each image will be processed on a different thread\n",
    "  \n",
    "  \n",
    "  \n",
    "  # convert images to list of tensors\n",
    "  \n",
    "  image_list = []\n",
    "  \n",
    "  for i in range(len(original_image_list)):\n",
    "    \n",
    "    # read one file from the queue (using the image reader you created)\n",
    "    _, image_file = image_reader.read(filename_queue) # image_reader.read returns a tuple (filename, filecontent); we will ignore the filename\n",
    "    \n",
    "    \n",
    "    # decode\n",
    "    image = tf.image.decode_jpeg(image_file)\n",
    "    \n",
    "    \n",
    "    # resize\n",
    "    image = tf.image.resize_images(image, [224,224])\n",
    "    \n",
    "    \n",
    "    # set shape\n",
    "    image.set_shape((224,224,3))\n",
    "    \n",
    "    \n",
    "    # sess.run to convert to Numpy array\n",
    "    image_array = sess.run(image)\n",
    "    print image_array.shape\n",
    "    \n",
    "    \n",
    "    # add new dimension to array, append array to image list\n",
    "    image_list.append(tf.expand_dims(image_array, 0))\n",
    "    \n",
    "\n",
    "    \n",
    "  # stop processing\n",
    "  coord.request_stop()\n",
    "\n",
    "\n",
    "  # join threads\n",
    "  coord.join(threads)\n",
    "\n",
    "\n",
    "  # write image summary\n",
    "  summary_writer = tf.summary.FileWriter('./resizedimages', graph=sess.graph)\n",
    "  \n",
    "  index = 0\n",
    "  \n",
    "  for item in image_list:\n",
    "    summary_str = sess.run(tf.summary.image(\"image-\" + str(index), item)) # create a summary of your images\n",
    "    summary_writer.add_summary(summary_str)\n",
    "    index += 1\n",
    "    \n",
    "  summary_writer.close()\n",
    "  \n",
    "  "
   ]
  },
  {
   "cell_type": "code",
   "execution_count": 10,
   "metadata": {},
   "outputs": [
    {
     "data": {
      "text/html": [
       "<p>TensorBoard was started successfully with pid 3632. Click <a href=\"/_proxy/37095/\" target=\"_blank\">here</a> to access it.</p>"
      ]
     },
     "metadata": {},
     "output_type": "display_data"
    }
   ],
   "source": [
    "# VIEW IN TENSORBOARD\n",
    "tboard_001 = ml.TensorBoard.start('./resizedimages')"
   ]
  },
  {
   "cell_type": "code",
   "execution_count": 11,
   "metadata": {},
   "outputs": [],
   "source": [
    "ml.TensorBoard.stop(tboard_001)"
   ]
  },
  {
   "cell_type": "code",
   "execution_count": null,
   "metadata": {},
   "outputs": [],
   "source": []
  }
 ],
 "metadata": {
  "kernelspec": {
   "display_name": "Python 2",
   "language": "python",
   "name": "python2"
  },
  "language_info": {
   "codemirror_mode": {
    "name": "ipython",
    "version": 2
   },
   "file_extension": ".py",
   "mimetype": "text/x-python",
   "name": "python",
   "nbconvert_exporter": "python",
   "pygments_lexer": "ipython2",
   "version": "2.7.15"
  }
 },
 "nbformat": 4,
 "nbformat_minor": 2
}
