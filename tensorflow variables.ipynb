{
 "cells": [
  {
   "cell_type": "code",
   "execution_count": null,
   "metadata": {},
   "outputs": [],
   "source": [
    "import tensorflow as tf\n",
    "import google.datalab.ml as ml"
   ]
  },
  {
   "cell_type": "code",
   "execution_count": null,
   "metadata": {},
   "outputs": [],
   "source": [
    "# problem: y = m * x + c"
   ]
  },
  {
   "cell_type": "code",
   "execution_count": null,
   "metadata": {},
   "outputs": [],
   "source": [
    "# build graph\n",
    "m = tf.Variable([6.7, 8.9], tf.float32, name='var_m')\n",
    "x = tf.placeholder(tf.float32, name='place_x')\n",
    "c = tf.Variable([6.1, 18.9], tf.float32, name='var_c')\n",
    "\n",
    "y = m * x + c"
   ]
  },
  {
   "cell_type": "code",
   "execution_count": null,
   "metadata": {},
   "outputs": [],
   "source": [
    "# initialize all variables\n",
    "init = tf.global_variables_initializer()"
   ]
  },
  {
   "cell_type": "code",
   "execution_count": 12,
   "metadata": {},
   "outputs": [
    {
     "name": "stdout",
     "output_type": "stream",
     "text": [
      "m * x + c:  [ 233.9    6248.8994]\n"
     ]
    }
   ],
   "source": [
    "# compute graph\n",
    "with tf.Session() as session:\n",
    "  \n",
    "  session.run(init)\n",
    "  \n",
    "  print \"m * x + c: \", session.run(y, feed_dict = {x:[34, 700]})\n",
    "  "
   ]
  },
  {
   "cell_type": "code",
   "execution_count": null,
   "metadata": {},
   "outputs": [],
   "source": [
    "# update the value of variables within a session\n",
    "\n",
    "a = tf.Variable(34)\n",
    "b = tf.Variable(9)"
   ]
  },
  {
   "cell_type": "code",
   "execution_count": null,
   "metadata": {},
   "outputs": [],
   "source": [
    "product = a.assign(tf.multiply(a,b))"
   ]
  },
  {
   "cell_type": "code",
   "execution_count": null,
   "metadata": {},
   "outputs": [],
   "source": [
    "# initialize all variables\n",
    "init = tf.global_variables_initializer()"
   ]
  },
  {
   "cell_type": "code",
   "execution_count": 16,
   "metadata": {},
   "outputs": [
    {
     "name": "stdout",
     "output_type": "stream",
     "text": [
      "product is:  306\n",
      "increment b, new value is:  11\n",
      "product is:  3366\n",
      "increment b, new value is:  13\n",
      "product is:  43758\n",
      "increment b, new value is:  15\n",
      "product is:  656370\n",
      "increment b, new value is:  17\n",
      "product is:  11158290\n",
      "increment b, new value is:  19\n",
      "product is:  212007510\n",
      "increment b, new value is:  21\n",
      "product is:  157190414\n",
      "increment b, new value is:  23\n",
      "product is:  -679587774\n",
      "increment b, new value is:  25\n",
      "product is:  190174834\n",
      "increment b, new value is:  27\n",
      "product is:  839753222\n",
      "increment b, new value is:  29\n"
     ]
    }
   ],
   "source": [
    "with tf.Session() as session:\n",
    "  \n",
    "  session.run(init)\n",
    "  \n",
    "  for i in range(10):\n",
    "    \n",
    "    print \"product is: \", session.run(product)\n",
    "    print \"increment b, new value is: \", session.run(b.assign_add(2))\n",
    "  \n",
    "  writer = tf.summary.FileWriter('./mygraph1', session.graph)\n",
    "  writer.close()"
   ]
  },
  {
   "cell_type": "code",
   "execution_count": 17,
   "metadata": {},
   "outputs": [
    {
     "data": {
      "text/html": [
       "<p>TensorBoard was started successfully with pid 3840. Click <a href=\"/_proxy/43991/\" target=\"_blank\">here</a> to access it.</p>"
      ]
     },
     "metadata": {},
     "output_type": "display_data"
    }
   ],
   "source": [
    "tboard1 = ml.TensorBoard.start('./mygraph1')"
   ]
  },
  {
   "cell_type": "code",
   "execution_count": 18,
   "metadata": {},
   "outputs": [],
   "source": [
    "ml.TensorBoard.stop(tboard1)"
   ]
  },
  {
   "cell_type": "code",
   "execution_count": null,
   "metadata": {},
   "outputs": [],
   "source": []
  }
 ],
 "metadata": {
  "kernelspec": {
   "display_name": "Python 2",
   "language": "python",
   "name": "python2"
  },
  "language_info": {
   "codemirror_mode": {
    "name": "ipython",
    "version": 2
   },
   "file_extension": ".py",
   "mimetype": "text/x-python",
   "name": "python",
   "nbconvert_exporter": "python",
   "pygments_lexer": "ipython2",
   "version": "2.7.15"
  }
 },
 "nbformat": 4,
 "nbformat_minor": 2
}
