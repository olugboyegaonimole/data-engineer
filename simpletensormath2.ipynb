{
 "cells": [
  {
   "cell_type": "code",
   "execution_count": null,
   "metadata": {},
   "outputs": [],
   "source": [
    "import tensorflow as tf\n",
    "import google.datalab.ml as ml"
   ]
  },
  {
   "cell_type": "code",
   "execution_count": null,
   "metadata": {},
   "outputs": [],
   "source": [
    "# build graph\n",
    "a = tf.constant([54, 5757, 89], name='constant_a')\n",
    "b = tf.constant([-954, 7, -8903], name='constant_b')\n",
    "\n",
    "sum_a = tf.reduce_sum(a, name='sum_a')\n",
    "prod_b = tf.reduce_prod(b, name='prod_b')\n",
    "divi = tf.div(sum_a, prod_b, name='divide_sum_a_prod_b') #this appears to yield the floor division\n",
    "total_mean = tf.reduce_mean([sum_a, prod_b], name='total_mean')"
   ]
  },
  {
   "cell_type": "code",
   "execution_count": null,
   "metadata": {},
   "outputs": [],
   "source": [
    "# run graph\n",
    "with tf.Session() as session:\n",
    "  \n",
    "    print \"a: \", session.run(a)\n",
    "    print \"b: \", session.run(b)\n",
    "    \n",
    "    print \"sum a: \", session.run(sum_a)\n",
    "    print \"prod b: \", session.run(prod_b)\n",
    "    print \"divide sum_a prod_b: \", session.run(divi)\n",
    "    print \"mean ab: \", session.run(total_mean)"
   ]
  },
  {
   "cell_type": "code",
   "execution_count": null,
   "metadata": {},
   "outputs": [],
   "source": []
  }
 ],
 "metadata": {
  "kernelspec": {
   "display_name": "Python 2",
   "language": "python",
   "name": "python2"
  },
  "language_info": {
   "codemirror_mode": {
    "name": "ipython",
    "version": 2
   },
   "file_extension": ".py",
   "mimetype": "text/x-python",
   "name": "python",
   "nbconvert_exporter": "python",
   "pygments_lexer": "ipython2",
   "version": "2.7.15"
  }
 },
 "nbformat": 4,
 "nbformat_minor": 2
}
