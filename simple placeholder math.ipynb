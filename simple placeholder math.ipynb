{
 "cells": [
  {
   "cell_type": "code",
   "execution_count": null,
   "metadata": {},
   "outputs": [],
   "source": [
    "import tensorflow as tf\n",
    "import google.datalab.ml as ml"
   ]
  },
  {
   "cell_type": "code",
   "execution_count": null,
   "metadata": {},
   "outputs": [],
   "source": [
    "#build graph\n",
    "\n",
    "x = tf.placeholder(tf.int32, shape=[3], name='x') # characteristics of the placeholder\n",
    "y = tf.placeholder(tf.int32, shape=[3], name='y')"
   ]
  },
  {
   "cell_type": "code",
   "execution_count": null,
   "metadata": {},
   "outputs": [],
   "source": [
    "sum_x = tf.reduce_sum(x, name='sum_x')\n",
    "prod_y = tf.reduce_prod(y, name='sum_y')\n",
    "total_div = tf.div(sum_x, prod_y, name='total_div')\n",
    "mean_xy = tf.reduce_mean([sum_x, prod_y], name='mean_xy')"
   ]
  },
  {
   "cell_type": "code",
   "execution_count": 20,
   "metadata": {},
   "outputs": [
    {
     "name": "stdout",
     "output_type": "stream",
     "text": [
      "sum_x:  -2990\n",
      "prod_y:  -266760000\n",
      "total_div 0\n",
      "mean_xy:  209405\n"
     ]
    }
   ],
   "source": [
    "with tf.Session() as session:\n",
    "  print 'sum_x: ', session.run(sum_x, feed_dict={x: [546, 0, -3536]})\n",
    "  print 'prod_y: ', session.run(prod_y, feed_dict={y: [65, 9000, -456]})\n",
    "  print 'total_div', session.run(total_div, feed_dict={x: [89, 4, 900], y: [89, 4, 90]})\n",
    "  print 'mean_xy: ', session.run(mean_xy, feed_dict={x: [546, 0, -3536], y: [76, 75, 74]})\n",
    "  \n",
    "  writer = tf.summary.FileWriter('./simpleplaceholdermath', session.graph)\n",
    "  writer.close()\n"
   ]
  },
  {
   "cell_type": "code",
   "execution_count": 21,
   "metadata": {},
   "outputs": [
    {
     "data": {
      "text/html": [
       "<p>TensorBoard was started successfully with pid 4953. Click <a href=\"/_proxy/33871/\" target=\"_blank\">here</a> to access it.</p>"
      ]
     },
     "metadata": {},
     "output_type": "display_data"
    }
   ],
   "source": [
    "tensorboard_002 = ml.TensorBoard.start('./simpleplaceholdermath')"
   ]
  },
  {
   "cell_type": "code",
   "execution_count": 22,
   "metadata": {},
   "outputs": [],
   "source": [
    "ml.TensorBoard.stop(tensorboard_002)"
   ]
  },
  {
   "cell_type": "code",
   "execution_count": null,
   "metadata": {},
   "outputs": [],
   "source": []
  }
 ],
 "metadata": {
  "kernelspec": {
   "display_name": "Python 2",
   "language": "python",
   "name": "python2"
  },
  "language_info": {
   "codemirror_mode": {
    "name": "ipython",
    "version": 2
   },
   "file_extension": ".py",
   "mimetype": "text/x-python",
   "name": "python",
   "nbconvert_exporter": "python",
   "pygments_lexer": "ipython2",
   "version": "2.7.15"
  }
 },
 "nbformat": 4,
 "nbformat_minor": 2
}
