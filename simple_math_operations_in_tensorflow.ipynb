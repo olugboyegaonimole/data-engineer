{
 "cells": [
  {
   "cell_type": "code",
   "execution_count": null,
   "metadata": {},
   "outputs": [],
   "source": [
    "import tensorflow as tf\n",
    "import google.datalab.ml as ml"
   ]
  },
  {
   "cell_type": "code",
   "execution_count": null,
   "metadata": {},
   "outputs": [],
   "source": [
    "#build graph - declare tensors\n",
    "a = tf.constant(44, name='constant_a')\n",
    "b = tf.constant(4, name='constant_b')"
   ]
  },
  {
   "cell_type": "code",
   "execution_count": null,
   "metadata": {},
   "outputs": [],
   "source": [
    "#build graph - define nodes\n",
    "add = tf.add(a, b, name='add_ab')\n",
    "subtract = tf.subtract(a, b, name='subtract_ab')\n",
    "multiply = tf.multiply(a, b, name='multiply_ab')\n",
    "divide = tf.divide(a, b, name='divide_ab')\n",
    "floordiv = tf.floordiv(a, b, name='floordiv_ab')\n",
    "modulo = tf.mod(a, b, name='modulo_ab')"
   ]
  },
  {
   "cell_type": "code",
   "execution_count": null,
   "metadata": {},
   "outputs": [],
   "source": [
    "#execute graph\n",
    "with tf.Session() as session:\n",
    "     \n",
    "    print (\"a+b: \", session.run(add))\n",
    "    print (\"a-b: \", session.run(subtract))\n",
    "    print (\"a*b: \", session.run(multiply))\n",
    "    print (\"a/b: \", session.run(divide))\n",
    "    print (\"a//b: \", session.run(floordiv))\n",
    "    print (\"a%b: \", session.run(modulo))\n",
    "    \n",
    "    \n",
    "    writer = tf.summary.FileWriter('./simplemathoperation', session.graph)\n",
    "    writer.close()\n"
   ]
  },
  {
   "cell_type": "code",
   "execution_count": null,
   "metadata": {
    "codeCollapsed": false,
    "hiddenCell": true
   },
   "outputs": [],
   "source": [
    "#view graph on tensorboard\n",
    "tensorboard_001 = ml.TensorBoard.start('./simplemathoperation')"
   ]
  },
  {
   "cell_type": "code",
   "execution_count": null,
   "metadata": {},
   "outputs": [],
   "source": [
    "ml.TensorBoard.stop(tensorboard_001)"
   ]
  },
  {
   "cell_type": "code",
   "execution_count": null,
   "metadata": {},
   "outputs": [],
   "source": []
  },
  {
   "cell_type": "code",
   "execution_count": null,
   "metadata": {},
   "outputs": [],
   "source": []
  },
  {
   "cell_type": "code",
   "execution_count": null,
   "metadata": {},
   "outputs": [],
   "source": []
  }
 ],
 "metadata": {
  "kernelspec": {
   "display_name": "Python 3",
   "language": "python",
   "name": "python3"
  },
  "language_info": {
   "codemirror_mode": {
    "name": "ipython",
    "version": 3
   },
   "file_extension": ".py",
   "mimetype": "text/x-python",
   "name": "python",
   "nbconvert_exporter": "python",
   "pygments_lexer": "ipython3",
   "version": "3.5.6"
  }
 },
 "nbformat": 4,
 "nbformat_minor": 2
}
