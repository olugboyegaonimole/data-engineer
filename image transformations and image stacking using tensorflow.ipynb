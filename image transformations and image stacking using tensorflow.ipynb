{
 "cells": [
  {
   "cell_type": "code",
   "execution_count": null,
   "metadata": {},
   "outputs": [],
   "source": [
    "# PLAN\n",
    "  # import libraries\n",
    "  \n",
    "  # define address array\n",
    "  \n",
    "  # define filename queue\n",
    "  \n",
    "  # define image reader\n",
    "  \n",
    "  # execute session\n",
    "    # define coordinator object to manage threads\n",
    "  \n",
    "    # define threads using start_queue_runners method\n",
	   "      # one thread processes one image\n",
	   "      # queue runner produces threads and sets them up in parallel\n",
    "      # pass in coordinator object to manage the threads\n",
    "    \n",
    "    # convert images to list of arrays\n",
    "      # create empty list\n",
    "      # read one file from the queue\n",
    "      # decode\n",
    "      # resize\n",
    "      # set shape\n",
    "      # perform transformations\n",
    "      # sess.run to convert to numpy array\n",
    "      # tf.stack to convert to tensor\n",
    "      # append tensor to image list\n",
    "    \n",
    "    # stop processing\n",
    "    \n",
    "    # join threads\n",
    "    \n",
    "    # write image summary\n",
    "    \n",
    "  # view in tensorboard\n",
    "  "
   ]
  },
  {
   "cell_type": "code",
   "execution_count": 1,
   "metadata": {},
   "outputs": [
    {
     "name": "stderr",
     "output_type": "stream",
     "text": [
      "/usr/local/envs/py2env/lib/python2.7/site-packages/h5py/__init__.py:36: FutureWarning: Conversion of the second argument of issubdtype from `float` to `np.floating` is deprecated. In future, it will be treated as `np.float64 == np.dtype(float).type`.\n",
      "  from ._conv import register_converters as _register_converters\n"
     ]
    }
   ],
   "source": [
    "# IMPORT LIBRARIES\n",
    "import tensorflow as tf\n",
    "import google.datalab.ml as ml"
   ]
  },
  {
   "cell_type": "code",
   "execution_count": 2,
   "metadata": {},
   "outputs": [],
   "source": [
    "# DEFINE ADDRESS ARRAY CONTAINING IMAGE ADDRESSES\n",
    "original_image_list = [\"./images/cat.2.jpg\", \n",
    "              \"./images/cat.3.jpg\",\n",
    "              \"./images/cat.4.jpg\",\n",
    "              \"./images/cat.5.jpg\",\n",
    "              \"./images/cat.6.jpg\",\n",
    "              \"./images/dog.1.jpg\",\n",
    "              \"./images/dog.2.jpg\",\n",
    "              \"./images/dog.3.jpg\",\n",
    "              \"./images/dog.4.jpg\",\n",
    "              \"./images/dog.5.jpg\"\n",
    "             ]"
   ]
  },
  {
   "cell_type": "code",
   "execution_count": 3,
   "metadata": {},
   "outputs": [],
   "source": [
    "# DEFINE FILENAME QUEUE USING ADDRESS ARRAY\n",
    "filename_queue = tf.train.string_input_producer(original_image_list) # we will produce multiple threads to read from this queue of images"
   ]
  },
  {
   "cell_type": "code",
   "execution_count": 4,
   "metadata": {},
   "outputs": [],
   "source": [
    "# DEFINE IMAGE READER\n",
    "image_reader = tf.WholeFileReader() # allows us to read the entire file in one go"
   ]
  },
  {
   "cell_type": "code",
   "execution_count": 5,
   "metadata": {},
   "outputs": [
    {
     "name": "stdout",
     "output_type": "stream",
     "text": [
      "(112, 112, 3)\n",
      "Tensor(\"stack:0\", shape=(112, 112, 3), dtype=float32)\n",
      " \n",
      "(112, 112, 3)\n",
      "Tensor(\"stack_1:0\", shape=(112, 112, 3), dtype=float32)\n",
      " \n",
      "(112, 112, 3)\n",
      "Tensor(\"stack_2:0\", shape=(112, 112, 3), dtype=float32)\n",
      " \n",
      "(112, 112, 3)\n",
      "Tensor(\"stack_3:0\", shape=(112, 112, 3), dtype=float32)\n",
      " \n",
      "(112, 112, 3)\n",
      "Tensor(\"stack_4:0\", shape=(112, 112, 3), dtype=float32)\n",
      " \n",
      "(112, 112, 3)\n",
      "Tensor(\"stack_5:0\", shape=(112, 112, 3), dtype=float32)\n",
      " \n",
      "(112, 112, 3)\n",
      "Tensor(\"stack_6:0\", shape=(112, 112, 3), dtype=float32)\n",
      " \n",
      "(112, 112, 3)\n",
      "Tensor(\"stack_7:0\", shape=(112, 112, 3), dtype=float32)\n",
      " \n",
      "(112, 112, 3)\n",
      "Tensor(\"stack_8:0\", shape=(112, 112, 3), dtype=float32)\n",
      " \n",
      "(112, 112, 3)\n",
      "Tensor(\"stack_9:0\", shape=(112, 112, 3), dtype=float32)\n",
      " \n",
      "Tensor(\"stack_10:0\", shape=(10, 112, 112, 3), dtype=float32)\n"
     ]
    }
   ],
   "source": [
    "# EXECUTE SESSION\n",
    "with tf.Session() as sess:\n",
    "    \n",
    "    # create queue runner object to coordinate the loading of image files\n",
    "    \n",
    "    coord = tf.train.Coordinator() # class which allows you to coordinate multiple threads; a method call on the coordinator can be used to stop processing on all your threads\n",
    "    \n",
    "    threads = tf.train.start_queue_runners(sess = sess, coord = coord) # queue runner allows you to process elements in a queue in parallel; purpose of threads is to read from the queue of images; each image will be processed on a different thread\n",
    "  \n",
    "  \n",
    "  \n",
    "    # convert images to list of tensors\n",
    "    \n",
    "    image_list = []\n",
    "    \n",
    "    for i in range(len(original_image_list)):\n",
    "        \n",
    "        # read one file from the queue (using the image reader you created)\n",
    "        _, image_file = image_reader.read(filename_queue) # image_reader.read returns a tuple (filename, filecontent); we will ignore the filename\n",
    "    \n",
    "    \n",
    "        # decode\n",
    "        image = tf.image.decode_jpeg(image_file)\n",
    "    \n",
    "    \n",
    "        # resize\n",
    "        image = tf.image.resize_images(image, [224,224])\n",
    "    \n",
    "    \n",
    "        # set shape\n",
    "        image.set_shape((224,224,3))\n",
    "    \n",
    "    \n",
    "        # perform transformations\n",
    "    \n",
    "            # flip upside down\n",
    "        image = tf.image.flip_up_down(image)\n",
    "    \n",
    "    \n",
    "            # crop away a border\n",
    "        image = tf.image.central_crop(image, central_fraction=0.5)\n",
    "    \n",
    "    \n",
    "        # sess.run to convert to numpy array\n",
    "        image_array = sess.run(image)\n",
    "        print image_array.shape\n",
    "    \n",
    "    \n",
    "        # tf.stack to convert to tensor\n",
    "        image_tensor = tf.stack(image_array)\n",
    "        print image_tensor\n",
    "        print \" \"\n",
    "    \n",
    "    \n",
    "        # append tensor to image list\n",
    "        image_list.append(image_tensor)\n",
    "    \n",
    "       \n",
    "    # stop processing\n",
    "    coord.request_stop()\n",
    "\n",
    "\n",
    "    # join threads\n",
    "    coord.join(threads)\n",
    "    \n",
    "    \n",
    "    # stack tensors: convert all tensors into a single tensor with a 4th dimension\n",
    "    images_tensor = tf.stack(image_list)\n",
    "    print images_tensor\n",
    "    \n",
    "\n",
    "\n",
    "    # write image summary\n",
    "    summary_writer = tf.summary.FileWriter('./resizedimages2', graph=sess.graph)\n",
    "    \n",
    "    summary = sess.run(tf.summary.image(\"images\", images_tensor)) # write a summary of your images\n",
    "    \n",
    "    summary_writer.add_summary(summary)\n",
    "    \n",
    "    summary_writer.close()\n",
    "  \n",
    "  "
   ]
  },
  {
   "cell_type": "code",
   "execution_count": 6,
   "metadata": {},
   "outputs": [
    {
     "data": {
      "text/html": [
       "<p>TensorBoard was started successfully with pid 5702. Click <a href=\"/_proxy/39287/\" target=\"_blank\">here</a> to access it.</p>"
      ]
     },
     "metadata": {},
     "output_type": "display_data"
    }
   ],
   "source": [
    "# VIEW IN TENSORBOARD\n",
    "tboard_001 = ml.TensorBoard.start('./resizedimages2')"
   ]
  },
  {
   "cell_type": "code",
   "execution_count": 7,
   "metadata": {},
   "outputs": [],
   "source": [
    "ml.TensorBoard.stop(tboard_001)"
   ]
  },
  {
   "cell_type": "code",
   "execution_count": null,
   "metadata": {},
   "outputs": [],
   "source": []
  }
 ],
 "metadata": {
  "kernelspec": {
   "display_name": "Python 2",
   "language": "python",
   "name": "python2"
  },
  "language_info": {
   "codemirror_mode": {
    "name": "ipython",
    "version": 2
   },
   "file_extension": ".py",
   "mimetype": "text/x-python",
   "name": "python",
   "nbconvert_exporter": "python",
   "pygments_lexer": "ipython2",
   "version": "2.7.15"
  }
 },
 "nbformat": 4,
 "nbformat_minor": 2
}
