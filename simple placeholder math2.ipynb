{
 "cells": [
  {
   "cell_type": "code",
   "execution_count": 2,
   "metadata": {},
   "outputs": [],
   "source": [
    "import tensorflow as tf\n",
    "import google.datalab.ml as ml"
   ]
  },
  {
   "cell_type": "code",
   "execution_count": 4,
   "metadata": {},
   "outputs": [],
   "source": [
    "# build graph, tensors\n",
    "a = tf.placeholder(tf.int32, shape=[3], name='placeholder_a')\n",
    "b = tf.placeholder(tf.int32, shape=[3], name='placeholder_b')"
   ]
  },
  {
   "cell_type": "code",
   "execution_count": 7,
   "metadata": {},
   "outputs": [],
   "source": [
    "# build graph, nodes\n",
    "sum_ab = tf.add(a,b, name='sum_ab')\n",
    "prod_a = tf.reduce_prod(a, name='prod_a')"
   ]
  },
  {
   "cell_type": "code",
   "execution_count": 8,
   "metadata": {},
   "outputs": [
    {
     "name": "stdout",
     "output_type": "stream",
     "text": [
      "a+b:  [13 13 13]\n",
      "prod a:  210\n"
     ]
    }
   ],
   "source": [
    "# compute\n",
    "with tf.Session() as session:\n",
    "  print \"a+b: \", session.run(sum_ab, feed_dict = {a:[5,6,7], b:[8,7,6]})\n",
    "  print \"prod a: \", session.run(prod_a, feed_dict = {a:[5,6,7]})"
   ]
  },
  {
   "cell_type": "code",
   "execution_count": null,
   "metadata": {},
   "outputs": [],
   "source": []
  }
 ],
 "metadata": {
  "kernelspec": {
   "display_name": "Python 2",
   "language": "python",
   "name": "python2"
  },
  "language_info": {
   "codemirror_mode": {
    "name": "ipython",
    "version": 2
   },
   "file_extension": ".py",
   "mimetype": "text/x-python",
   "name": "python",
   "nbconvert_exporter": "python",
   "pygments_lexer": "ipython2",
   "version": "2.7.15"
  }
 },
 "nbformat": 4,
 "nbformat_minor": 2
}
