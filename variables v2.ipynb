{
 "cells": [
  {
   "cell_type": "code",
   "execution_count": null,
   "metadata": {},
   "outputs": [],
   "source": [
    "import tensorflow as tf\n",
    "import google.datalab.ml as ml"
   ]
  },
  {
   "cell_type": "code",
   "execution_count": null,
   "metadata": {},
   "outputs": [],
   "source": [
    "# build graph\n",
    "\n",
    "var_1 = tf.Variable([45, 6, 89], tf.float32, name='var_1')\n",
    "var_2 = tf.Variable([95, 60, 9], tf.float32, name='var_2')"
   ]
  },
  {
   "cell_type": "code",
   "execution_count": null,
   "metadata": {},
   "outputs": [],
   "source": [
    "init = tf.global_variables_initializer()"
   ]
  },
  {
   "cell_type": "code",
   "execution_count": null,
   "metadata": {},
   "outputs": [],
   "source": [
    "product = var_1.assign(tf.multiply(var_1, var_2))"
   ]
  },
  {
   "cell_type": "code",
   "execution_count": 8,
   "metadata": {},
   "outputs": [
    {
     "name": "stdout",
     "output_type": "stream",
     "text": [
      "product is:  [4275  360  801]\n",
      "increment var_2, new value is:  [98 64 14]\n",
      "product is:  [418950  23040  11214]\n",
      "increment var_2, new value is:  [101  68  19]\n",
      "product is:  [42313950  1566720   213066]\n",
      "increment var_2, new value is:  [104  72  24]\n",
      "product is:  [105683504 112803840   5113584]\n",
      "increment var_2, new value is:  [107  76  29]\n",
      "product is:  [-1576766960   -16842752   148293936]\n",
      "increment var_2, new value is:  [110  80  34]\n",
      "product is:  [-1645673760 -1347420160   747026528]\n",
      "increment var_2, new value is:  [113  84  39]\n",
      "product is:  [-1277541152 -1514143744  -930736480]\n",
      "increment var_2, new value is:  [116  88  44]\n",
      "product is:  [2129081728 -100663296 1997267840]\n",
      "increment var_2, new value is:  [119  92  49]\n",
      "product is:  [ -42344832 -671088640 -918123648]\n",
      "increment var_2, new value is:  [122  96  54]\n",
      "product is:  [-871102208          0 1960930560]\n",
      "increment var_2, new value is:  [125 100  59]\n",
      "product is:  [-1513593600           0  -269213952]\n",
      "increment var_2, new value is:  [128 104  64]\n",
      "product is:  [-466452480          0  -49823744]\n",
      "increment var_2, new value is:  [131 108  69]\n",
      "product is:  [-975732736          0  857128960]\n",
      "increment var_2, new value is:  [134 112  74]\n",
      "product is:  [-1899167744           0  -996966400]\n",
      "increment var_2, new value is:  [137 116  79]\n",
      "product is:  [ 1807024128           0 -1450934272]\n",
      "increment var_2, new value is:  [140 120  84]\n",
      "product is:  [ -419692544           0 -1619394560]\n",
      "increment var_2, new value is:  [143 124  89]\n",
      "product is:  [ 113508352          0 1902772224]\n",
      "increment var_2, new value is:  [146 128  94]\n",
      "product is:  [ -607649792           0 -1528037376]\n",
      "increment var_2, new value is:  [149 132  99]\n",
      "product is:  [-345505792          0 -951844864]\n",
      "increment var_2, new value is:  [152 136 104]\n",
      "product is:  [-977272832          0 -207618048]\n",
      "increment var_2, new value is:  [155 140 109]\n"
     ]
    }
   ],
   "source": [
    "# compute\n",
    "\n",
    "with tf.Session() as session:\n",
    "  \n",
    "  session.run(init)\n",
    "  \n",
    "  for i in range(20):\n",
    "    \n",
    "    print \"product is: \", session.run(product)\n",
    "    \n",
    "    print \"increment var_2, new value is: \", session.run(var_2.assign_add([3, 4,5]))\n",
    "    \n",
    "  writer = tf.summary.FileWriter('./graph', session.graph)\n",
    "  \n",
    "  writer.close()"
   ]
  },
  {
   "cell_type": "code",
   "execution_count": 9,
   "metadata": {},
   "outputs": [
    {
     "data": {
      "text/html": [
       "<p>TensorBoard was started successfully with pid 3772. Click <a href=\"/_proxy/49733/\" target=\"_blank\">here</a> to access it.</p>"
      ]
     },
     "metadata": {},
     "output_type": "display_data"
    }
   ],
   "source": [
    "t_board_001 = ml.TensorBoard.start('./graph')"
   ]
  },
  {
   "cell_type": "code",
   "execution_count": 10,
   "metadata": {},
   "outputs": [],
   "source": [
    "ml.TensorBoard.stop(t_board_001)"
   ]
  },
  {
   "cell_type": "code",
   "execution_count": null,
   "metadata": {},
   "outputs": [],
   "source": []
  }
 ],
 "metadata": {
  "kernelspec": {
   "display_name": "Python 2",
   "language": "python",
   "name": "python2"
  },
  "language_info": {
   "codemirror_mode": {
    "name": "ipython",
    "version": 2
   },
   "file_extension": ".py",
   "mimetype": "text/x-python",
   "name": "python",
   "nbconvert_exporter": "python",
   "pygments_lexer": "ipython2",
   "version": "2.7.15"
  }
 },
 "nbformat": 4,
 "nbformat_minor": 2
}
