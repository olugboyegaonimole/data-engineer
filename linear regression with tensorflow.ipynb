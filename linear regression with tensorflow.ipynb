{
 "cells": [
  {
   "cell_type": "code",
   "execution_count": 1,
   "metadata": {},
   "outputs": [
    {
     "name": "stderr",
     "output_type": "stream",
     "text": [
      "/usr/local/envs/py2env/lib/python2.7/site-packages/h5py/__init__.py:36: FutureWarning: Conversion of the second argument of issubdtype from `float` to `np.floating` is deprecated. In future, it will be treated as `np.float64 == np.dtype(float).type`.\n",
      "  from ._conv import register_converters as _register_converters\n"
     ]
    }
   ],
   "source": [
    "import tensorflow as tf"
   ]
  },
  {
   "cell_type": "code",
   "execution_count": null,
   "metadata": {},
   "outputs": [],
   "source": [
    "# BUILD GRAPH\n",
    "  # PARAMETERS\n",
    "  # I/O\n",
    "  # TARGET VAR\n",
    "  # LOSS\n",
    "  # OPTIMIZER\n",
    "  # TRAINING DATA\n",
    "  # INITIALIZE TRAINING LOOP\n",
    "  \n",
    "# EXECUTE GRAPH\n"
   ]
  },
  {
   "cell_type": "code",
   "execution_count": 6,
   "metadata": {},
   "outputs": [],
   "source": [
    "# BUILD GRAPH\n",
    "  # PARAMETERS\n",
    "W = tf.Variable([.7], dtype=tf.float32)\n",
    "\n",
    "b = tf.Variable([-.7], dtype=tf.float32)"
   ]
  },
  {
   "cell_type": "code",
   "execution_count": 7,
   "metadata": {},
   "outputs": [],
   "source": [
    "  # I/O\n",
    "x = tf.placeholder(tf.float32) # x is instantiated as a placeholder because we will be feeding in the values of x into our model\n",
    "\n",
    "linear_model = W * x + b\n"
   ]
  },
  {
   "cell_type": "code",
   "execution_count": 8,
   "metadata": {},
   "outputs": [],
   "source": [
    "  # TARGET VAR\n",
    "y = tf.placeholder(tf.float32) # this placeholder holds the labels for our training data, the true y value for every x input; you also feed this into the model\n"
   ]
  },
  {
   "cell_type": "code",
   "execution_count": 9,
   "metadata": {},
   "outputs": [],
   "source": [
    "  # LOSS\n",
    "loss = tf.reduce_sum(tf.square(linear_model - y)) # the smaller the loss the more accurate your model\n"
   ]
  },
  {
   "cell_type": "code",
   "execution_count": 10,
   "metadata": {},
   "outputs": [],
   "source": [
    "  # OPTIMIZER\n",
    "optimizer = tf.train.GradientDescentOptimizer(0.01) # an optimizer library containing optimizer functions that can help you minimise your loss function\n",
    "\n",
    "train = optimizer.minimize(loss) # the training step"
   ]
  },
  {
   "cell_type": "code",
   "execution_count": 11,
   "metadata": {},
   "outputs": [],
   "source": [
    "  # TRAINING DATA\n",
    "x_train = [1,2,3,4]\n",
    "y_train = [0,-1,-2,-3]"
   ]
  },
  {
   "cell_type": "code",
   "execution_count": 13,
   "metadata": {},
   "outputs": [],
   "source": [
    "  # INITIALIZE TRAINING LOOP\n",
    "init = tf.global_variables_initializer()"
   ]
  },
  {
   "cell_type": "code",
   "execution_count": 15,
   "metadata": {},
   "outputs": [
    {
     "name": "stdout",
     "output_type": "stream",
     "text": [
      "W: [-0.9999991], b: [0.99999744], loss: 4.206413e-12\n"
     ]
    }
   ],
   "source": [
    "# EXECUTE GRAPH\n",
    "with tf.Session() as sess:\n",
    "  \n",
    "  #run initializer\n",
    "  sess.run(init)\n",
    "  \n",
    "  \n",
    "  #train your model\n",
    "  for i in range(2000):\n",
    "    \n",
    "    sess.run(train, {x:x_train, y:y_train})\n",
    "    \n",
    "\n",
    "  #evaluate accuracy\n",
    "  current_W, current_b, current_loss = sess.run([W, b, loss], {x:x_train, y:y_train})\n",
    "    \n",
    "  print (\"W: %s, b: %s, loss: %s\" % (current_W, current_b, current_loss))"
   ]
  },
  {
   "cell_type": "code",
   "execution_count": null,
   "metadata": {},
   "outputs": [],
   "source": []
  }
 ],
 "metadata": {
  "kernelspec": {
   "display_name": "Python 2",
   "language": "python",
   "name": "python2"
  },
  "language_info": {
   "codemirror_mode": {
    "name": "ipython",
    "version": 2
   },
   "file_extension": ".py",
   "mimetype": "text/x-python",
   "name": "python",
   "nbconvert_exporter": "python",
   "pygments_lexer": "ipython2",
   "version": "2.7.15"
  }
 },
 "nbformat": 4,
 "nbformat_minor": 2
}
